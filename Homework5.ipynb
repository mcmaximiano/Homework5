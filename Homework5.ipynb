{
  "nbformat": 4,
  "nbformat_minor": 0,
  "metadata": {
    "colab": {
      "name": "Homework5.ipynb",
      "version": "0.3.2",
      "provenance": [],
      "collapsed_sections": []
    },
    "kernelspec": {
      "name": "python3",
      "display_name": "Python 3"
    }
  },
  "cells": [
    {
      "cell_type": "code",
      "metadata": {
        "id": "PEqwUm0ZEkcU",
        "colab_type": "code",
        "colab": {}
      },
      "source": [
        "\"\"\"Link para obter o dataset: https://github.com/mcmaximiano/Homework5\"\"\"\n",
        "\n",
        "import numpy as np\n",
        "import matplotlib\n",
        "import matplotlib.pyplot as plt\n",
        "from sklearn import datasets\n",
        "from sklearn.model_selection import train_test_split as split\n",
        "import tensorflow as tf\n",
        "\n",
        "# To support both python 2 and python 3\n",
        "from __future__ import division, print_function, unicode_literals\n",
        "\n",
        "import os\n",
        "\n",
        "import keras as krs\n",
        "from keras.models import Sequential\n",
        "from keras.layers import Dense, Activation, LeakyReLU\n",
        "\n",
        "from google.colab import files\n",
        "\n",
        "uploaded = files.upload()\n",
        "\n",
        "for fn in uploaded.keys():\n",
        "  print('User uploaded file \"{name}\" with length {length} bytes'.format(name=fn, length=len(uploaded[fn])))\n",
        "\n",
        "!unzip fruits-processed.zip\n",
        "\n",
        "\n"
      ],
      "execution_count": 0,
      "outputs": []
    },
    {
      "cell_type": "code",
      "metadata": {
        "id": "DxOl5JPr3Zme",
        "colab_type": "code",
        "colab": {}
      },
      "source": [
        "# to make this notebook's output stable across runs\n",
        "def reset_graph(seed=42):\n",
        "    tf.reset_default_graph()\n",
        "    tf.set_random_seed(seed)\n",
        "    np.random.seed(seed)\n",
        "\n",
        "# To plot pretty figures\n",
        "%matplotlib inline\n",
        "plt.rcParams['axes.labelsize'] = 14\n",
        "plt.rcParams['xtick.labelsize'] = 12\n",
        "plt.rcParams['ytick.labelsize'] = 12\n",
        "\n",
        "# Where to save the figures\n",
        "PROJECT_ROOT_DIR = \".\"\n",
        "CHAPTER_ID = \"cnn\"\n",
        "\n",
        "def save_fig(fig_id, tight_layout=True):\n",
        "    path = os.path.join(PROJECT_ROOT_DIR, \"images\", CHAPTER_ID, fig_id + \".png\")\n",
        "    print(\"Saving figure\", fig_id)\n",
        "    if tight_layout:\n",
        "        plt.tight_layout()\n",
        "    plt.savefig(path, format='png', dpi=300)"
      ],
      "execution_count": 0,
      "outputs": []
    },
    {
      "cell_type": "code",
      "metadata": {
        "id": "Nb4qbgIhFdAS",
        "colab_type": "code",
        "colab": {}
      },
      "source": [
        "def plot_image(image):\n",
        "    plt.imshow(image, cmap=\"gray\", interpolation=\"nearest\")\n",
        "    plt.axis(\"off\")\n",
        "\n",
        "def plot_color_image(image):\n",
        "    plt.imshow(image.astype(np.uint8),interpolation=\"nearest\")\n",
        "    plt.axis(\"off\")"
      ],
      "execution_count": 0,
      "outputs": []
    },
    {
      "cell_type": "code",
      "metadata": {
        "id": "xK2d4s6EFhlR",
        "colab_type": "code",
        "colab": {}
      },
      "source": [
        "width = 100\n",
        "height = 100\n",
        "channels = 3\n",
        "\n",
        "import matplotlib.image as mpimg\n",
        "\n",
        "\n",
        "\n",
        "test_image = mpimg.imread(os.path.join(\"fruits-processed\",\"fruits-360\", \"Test\",\"Orange\",\"30_100.jpg\"))[:, :, :channels]\n",
        "\"\"\" Just a test\n",
        "plt.imshow(test_image)\n",
        "plt.axis(\"off\")\n",
        "plt.show()\n",
        "\"\"\"\n",
        "\n",
        "test_image = 2 * test_image - 1\n"
      ],
      "execution_count": 0,
      "outputs": []
    },
    {
      "cell_type": "code",
      "metadata": {
        "id": "PfW4tZyuKxjR",
        "colab_type": "code",
        "colab": {}
      },
      "source": [
        "one_time_flag = 0"
      ],
      "execution_count": 0,
      "outputs": []
    },
    {
      "cell_type": "code",
      "metadata": {
        "id": "xk9fq6zIJm3B",
        "colab_type": "code",
        "colab": {}
      },
      "source": [
        "import sys\n",
        "import tarfile\n",
        "from six.moves import urllib\n",
        "\n",
        "\"\"\"\n",
        "Get imagenet_class_names from https://github.com/ageron/handson-ml/blob/master/datasets/inception/imagenet_class_names.txt\n",
        "\"\"\"\n",
        "\n",
        "TF_MODELS_URL = \"http://download.tensorflow.org/models\"\n",
        "INCEPTION_V3_URL = TF_MODELS_URL + \"/inception_v3_2016_08_28.tar.gz\"\n",
        "INCEPTION_PATH = os.path.join(\"datasets\", \"inception\")\n",
        "INCEPTION_V3_CHECKPOINT_PATH = os.path.join(INCEPTION_PATH, \"inception_v3.ckpt\")\n",
        "\n",
        "\n",
        "def download_progress(count, block_size, total_size):\n",
        "    percent = count * block_size * 100 // total_size\n",
        "    sys.stdout.write(\"\\rDownloading: {}%\".format(percent))\n",
        "    sys.stdout.flush()\n",
        "\n",
        "def fetch_pretrained_inception_v3(url=INCEPTION_V3_URL, path=INCEPTION_PATH):\n",
        "    if os.path.exists(INCEPTION_V3_CHECKPOINT_PATH):\n",
        "        return\n",
        "    os.makedirs(path, exist_ok=True)\n",
        "    tgz_path = os.path.join(path, \"inception_v3.tgz\")\n",
        "    urllib.request.urlretrieve(url, tgz_path, reporthook=download_progress)\n",
        "    inception_tgz = tarfile.open(tgz_path)\n",
        "    inception_tgz.extractall(path=path)\n",
        "    inception_tgz.close()\n",
        "    os.remove(tgz_path)"
      ],
      "execution_count": 0,
      "outputs": []
    },
    {
      "cell_type": "code",
      "metadata": {
        "id": "U6tiu7YNLSUh",
        "colab_type": "code",
        "colab": {
          "base_uri": "https://localhost:8080/",
          "height": 36
        },
        "outputId": "f9fbd076-ea32-4acc-c425-695a73026029"
      },
      "source": [
        "fetch_pretrained_inception_v3()"
      ],
      "execution_count": 16,
      "outputs": [
        {
          "output_type": "stream",
          "text": [
            "Downloading: 100%"
          ],
          "name": "stdout"
        }
      ]
    },
    {
      "cell_type": "code",
      "metadata": {
        "id": "0mu1V0L8Nffb",
        "colab_type": "code",
        "colab": {}
      },
      "source": [
        "import re\n",
        "\n",
        "CLASS_NAME_REGEX = re.compile(r\"^n\\d+\\s+(.*)\\s*$\", re.M | re.U)\n",
        "\n",
        "\"\"\" At this point get the file 'inagenet_class_names.txt from:\n",
        "https://goo.gl/brXRtZ and upload it into the inception folder\n",
        "'\"\"\"\n",
        "\n",
        "def load_class_names():\n",
        "    with open(os.path.join(\"datasets\", \"inception\", \"imagenet_class_names.txt\"), \"rb\") as f:\n",
        "        content = f.read().decode(\"utf-8\")\n",
        "        return CLASS_NAME_REGEX.findall(content)"
      ],
      "execution_count": 0,
      "outputs": []
    },
    {
      "cell_type": "code",
      "metadata": {
        "id": "PsjmAGxzSDwE",
        "colab_type": "code",
        "colab": {}
      },
      "source": [
        "class_names = [\"background\"] + load_class_names()"
      ],
      "execution_count": 0,
      "outputs": []
    },
    {
      "cell_type": "code",
      "metadata": {
        "id": "BtD66EEBSYNF",
        "colab_type": "code",
        "outputId": "6e9d5192-3b29-4012-d7cb-9b64c40866d3",
        "colab": {
          "base_uri": "https://localhost:8080/",
          "height": 111
        }
      },
      "source": [
        "class_names[:5]"
      ],
      "execution_count": 19,
      "outputs": [
        {
          "output_type": "execute_result",
          "data": {
            "text/plain": [
              "['background',\n",
              " 'tench, Tinca tinca\\r',\n",
              " 'goldfish, Carassius auratus\\r',\n",
              " 'great white shark, white shark, man-eater, man-eating shark, Carcharodon carcharias\\r',\n",
              " 'tiger shark, Galeocerdo cuvieri\\r']"
            ]
          },
          "metadata": {
            "tags": []
          },
          "execution_count": 19
        }
      ]
    },
    {
      "cell_type": "code",
      "metadata": {
        "id": "8XacPAf2Sc4l",
        "colab_type": "code",
        "colab": {}
      },
      "source": [
        "from tensorflow.contrib.slim.nets import inception\n",
        "import tensorflow.contrib.slim as slim\n",
        "\n",
        "reset_graph()\n",
        "\n",
        "X = tf.placeholder(tf.float32, shape=[None, 299, 299, 3], name=\"X\")\n",
        "\n",
        "with slim.arg_scope(inception.inception_v3_arg_scope()):\n",
        "    logits, end_points = inception.inception_v3(\n",
        "       X, num_classes=1001, is_training=False)\n",
        "predictions = end_points[\"Predictions\"]\n",
        "saver = tf.train.Saver()"
      ],
      "execution_count": 0,
      "outputs": []
    },
    {
      "cell_type": "code",
      "metadata": {
        "id": "USDH37iOSlSf",
        "colab_type": "code",
        "outputId": "5d25b8e7-3298-41b9-bd4d-20a42014150a",
        "colab": {
          "base_uri": "https://localhost:8080/",
          "height": 36
        }
      },
      "source": [
        "with tf.Session() as sess:\n",
        "    saver.restore(sess, INCEPTION_V3_CHECKPOINT_PATH)"
      ],
      "execution_count": 100,
      "outputs": [
        {
          "output_type": "stream",
          "text": [
            "INFO:tensorflow:Restoring parameters from datasets/inception/inception_v3.ckpt\n"
          ],
          "name": "stdout"
        }
      ]
    },
    {
      "cell_type": "code",
      "metadata": {
        "id": "4JHb4eMASnpN",
        "colab_type": "code",
        "outputId": "091ce485-ad27-4b57-d3bf-8080e3a3f84e",
        "colab": {
          "base_uri": "https://localhost:8080/",
          "height": 54
        }
      },
      "source": [
        "\n",
        "test_image.resize((1, 299, 299, channels))\n",
        "\n",
        "with tf.Session() as sess:\n",
        "    saver.restore(sess, INCEPTION_V3_CHECKPOINT_PATH)\n",
        "    predictions_val = predictions.eval(feed_dict={X: test_image})"
      ],
      "execution_count": 122,
      "outputs": [
        {
          "output_type": "stream",
          "text": [
            "(1, 299, 299, 3)\n",
            "INFO:tensorflow:Restoring parameters from datasets/inception/inception_v3.ckpt\n"
          ],
          "name": "stdout"
        }
      ]
    },
    {
      "cell_type": "code",
      "metadata": {
        "id": "Z58kJDDfgdjV",
        "colab_type": "code",
        "colab": {
          "base_uri": "https://localhost:8080/",
          "height": 36
        },
        "outputId": "4b440a1d-2372-4150-da48-b0ba98c36691"
      },
      "source": [
        "most_likely_class_index = np.argmax(predictions_val[0])\n",
        "most_likely_class_index"
      ],
      "execution_count": 123,
      "outputs": [
        {
          "output_type": "execute_result",
          "data": {
            "text/plain": [
              "917"
            ]
          },
          "metadata": {
            "tags": []
          },
          "execution_count": 123
        }
      ]
    },
    {
      "cell_type": "code",
      "metadata": {
        "id": "W6WIFW6wlcbR",
        "colab_type": "code",
        "colab": {
          "base_uri": "https://localhost:8080/",
          "height": 36
        },
        "outputId": "8ed76ff1-a00b-4ef9-9ba7-29ddfd4e22f7"
      },
      "source": [
        "class_names[most_likely_class_index]"
      ],
      "execution_count": 124,
      "outputs": [
        {
          "output_type": "execute_result",
          "data": {
            "text/plain": [
              "'web site, website, internet site, site\\r'"
            ]
          },
          "metadata": {
            "tags": []
          },
          "execution_count": 124
        }
      ]
    },
    {
      "cell_type": "code",
      "metadata": {
        "id": "MsHWflebljXX",
        "colab_type": "code",
        "colab": {
          "base_uri": "https://localhost:8080/",
          "height": 111
        },
        "outputId": "caffa20c-45cc-4754-8e92-5a1fc812a198"
      },
      "source": [
        "top_5 = np.argpartition(predictions_val[0], -5)[-5:]\n",
        "top_5 = reversed(top_5[np.argsort(predictions_val[0][top_5])])\n",
        "for i in top_5:\n",
        "    print(\"{0}: {1:.2f}%\".format(class_names[i], 100 * predictions_val[0][i]))"
      ],
      "execution_count": 125,
      "outputs": [
        {
          "output_type": "stream",
          "text": [
            "web site, website, internet site, site\r: 100.00%\n",
            "leatherback turtle, leatherback, leathery turtle, Dermochelys coriacea\r: 0.00%\n",
            "gasmask, respirator, gas helmet\r: 0.00%\n",
            "sax, saxophone\r: 0.00%\n",
            "spotlight, spot\r: 0.00%\n"
          ],
          "name": "stdout"
        }
      ]
    },
    {
      "cell_type": "code",
      "metadata": {
        "id": "mvkOXJKelyNd",
        "colab_type": "code",
        "colab": {
          "base_uri": "https://localhost:8080/",
          "height": 54
        },
        "outputId": "c11135c3-3aa8-43f3-9b2f-0946e89be4a1"
      },
      "source": [
        "import sys\n",
        "import tarfile\n",
        "\n",
        "\"\"\"\n",
        "We are only running this on the Training folder because everything is just too much to process\n",
        "in useful time. But in code below we separate the images in this folder into a training set \n",
        "and a test set :)\n",
        "\"\"\"\n",
        "root_path = os.path.join(\"fruits-processed\", \"fruits-360\", \"Training\")\n",
        "\n",
        "fruit_classes = sorted([dirname for dirname in os.listdir(root_path) \n",
        "                         if os.path.isdir(os.path.join(root_path, dirname))])\n",
        "fruit_classes"
      ],
      "execution_count": 126,
      "outputs": [
        {
          "output_type": "stream",
          "text": [
            "fruits-processed/fruits-360/Training\n"
          ],
          "name": "stdout"
        },
        {
          "output_type": "execute_result",
          "data": {
            "text/plain": [
              "['Apple', 'Lemon', 'Orange', 'Pear']"
            ]
          },
          "metadata": {
            "tags": []
          },
          "execution_count": 126
        }
      ]
    },
    {
      "cell_type": "code",
      "metadata": {
        "id": "Uz3u-Xz_msjr",
        "colab_type": "code",
        "colab": {}
      },
      "source": [
        "from collections import defaultdict\n",
        "\n",
        "image_paths = defaultdict(list)\n",
        "\n",
        "for fruit_class in fruit_classes:\n",
        "    image_dir = os.path.join(root_path, fruit_class)\n",
        "    for filepath in os.listdir(image_dir):\n",
        "        if filepath.endswith(\".jpg\"):\n",
        "            image_paths[fruit_class].append(os.path.join(image_dir, filepath))"
      ],
      "execution_count": 0,
      "outputs": []
    },
    {
      "cell_type": "code",
      "metadata": {
        "id": "NE5l0CD1nJkB",
        "colab_type": "code",
        "colab": {}
      },
      "source": [
        "for paths in image_paths.values():\n",
        "    paths.sort()    "
      ],
      "execution_count": 0,
      "outputs": []
    },
    {
      "cell_type": "code",
      "metadata": {
        "id": "lT-cpUjhnNM_",
        "colab_type": "code",
        "colab": {}
      },
      "source": [
        "import matplotlib.image as mpimg\n",
        "\n",
        "n_examples_per_class = 2\n",
        "\n",
        "for fruit_class in fruit_classes:\n",
        "    print(\"Class:\", fruit_class)\n",
        "    plt.figure(figsize=(10,5))\n",
        "    for index, example_image_path in enumerate(image_paths[fruit_class][:n_examples_per_class]):\n",
        "        example_image = mpimg.imread(example_image_path)[:, :, :channels]\n",
        "        plt.subplot(100 + n_examples_per_class * 10 + index + 1)\n",
        "        plt.title(\"{}x{}\".format(example_image.shape[1], example_image.shape[0]))\n",
        "        plt.imshow(example_image)\n",
        "        plt.axis(\"off\")\n",
        "    plt.show()"
      ],
      "execution_count": 0,
      "outputs": []
    },
    {
      "cell_type": "code",
      "metadata": {
        "id": "5vWfaR8YnZP4",
        "colab_type": "code",
        "colab": {}
      },
      "source": [
        "def resizeImg(image, target_width = 299, target_height = 299):\n",
        "  new_img = image.copy()\n",
        "  new_img.resize((299, 299,3))\n",
        "  return new_img.astype(np.float32) / 255"
      ],
      "execution_count": 0,
      "outputs": []
    },
    {
      "cell_type": "code",
      "metadata": {
        "id": "SqCnQ3uEp9wX",
        "colab_type": "code",
        "colab": {}
      },
      "source": [
        "\n",
        "plt.imshow(example_image)\n",
        "plt.title(\"{}x{}\".format(example_image.shape[1], example_image.shape[0]))\n",
        "plt.axis(\"off\")\n",
        "plt.show()"
      ],
      "execution_count": 0,
      "outputs": []
    },
    {
      "cell_type": "code",
      "metadata": {
        "id": "kq6GWpbsqCIF",
        "colab_type": "code",
        "colab": {}
      },
      "source": [
        "prepared_image = resizeImg(example_image)\n",
        "\n",
        "plt.imshow(prepared_image)\n",
        "plt.title(\"{}x{}\".format(prepared_image.shape[1], prepared_image.shape[0]))\n",
        "plt.axis(\"off\")\n",
        "plt.show()"
      ],
      "execution_count": 0,
      "outputs": []
    },
    {
      "cell_type": "code",
      "metadata": {
        "id": "rgcLQ4INwiJK",
        "colab_type": "code",
        "colab": {}
      },
      "source": [
        "from tensorflow.contrib.slim.nets import inception\n",
        "import tensorflow.contrib.slim as slim\n",
        "\n",
        "reset_graph()\n",
        "\n",
        "X = tf.placeholder(tf.float32, shape=[None, 299, 299, 3], name=\"X\")\n",
        "training = tf.placeholder_with_default(False, shape=[])\n",
        "with slim.arg_scope(inception.inception_v3_arg_scope()):\n",
        "    logits, end_points = inception.inception_v3(X, num_classes=1001, is_training=training)\n",
        "\n",
        "inception_saver = tf.train.Saver()"
      ],
      "execution_count": 0,
      "outputs": []
    },
    {
      "cell_type": "code",
      "metadata": {
        "id": "ATUxnPsixbuQ",
        "colab_type": "code",
        "colab": {
          "base_uri": "https://localhost:8080/",
          "height": 36
        },
        "outputId": "d99c9a9a-4b60-43db-a4b0-94170c78f03d"
      },
      "source": [
        "end_points[\"PreLogits\"]"
      ],
      "execution_count": 190,
      "outputs": [
        {
          "output_type": "execute_result",
          "data": {
            "text/plain": [
              "<tf.Tensor 'InceptionV3/Logits/Dropout_1b/cond/Merge:0' shape=(?, 1, 1, 2048) dtype=float32>"
            ]
          },
          "metadata": {
            "tags": []
          },
          "execution_count": 190
        }
      ]
    },
    {
      "cell_type": "code",
      "metadata": {
        "id": "jQjegXj8xr7x",
        "colab_type": "code",
        "colab": {}
      },
      "source": [
        "prelogits = tf.squeeze(end_points[\"PreLogits\"], axis=[1, 2])"
      ],
      "execution_count": 0,
      "outputs": []
    },
    {
      "cell_type": "code",
      "metadata": {
        "id": "FspClc0QxwYo",
        "colab_type": "code",
        "colab": {}
      },
      "source": [
        "n_outputs = len(fruit_classes)\n",
        "\n",
        "with tf.name_scope(\"new_output_layer\"):\n",
        "    fruit_logits = tf.layers.dense(prelogits, n_outputs, name=\"fruit_logits\")\n",
        "    Y_proba = tf.nn.softmax(fruit_logits, name=\"Y_proba\")"
      ],
      "execution_count": 0,
      "outputs": []
    },
    {
      "cell_type": "code",
      "metadata": {
        "id": "I70OW2gRx5yD",
        "colab_type": "code",
        "colab": {}
      },
      "source": [
        "y = tf.placeholder(tf.int32, shape=[None])\n",
        "\n",
        "with tf.name_scope(\"train\"):\n",
        "    xentropy = tf.nn.sparse_softmax_cross_entropy_with_logits(logits=fruit_logits, labels=y)\n",
        "    loss = tf.reduce_mean(xentropy)\n",
        "    optimizer = tf.train.AdamOptimizer()\n",
        "    fruit_vars = tf.get_collection(tf.GraphKeys.TRAINABLE_VARIABLES, scope=\"fruit_logits\")\n",
        "    training_op = optimizer.minimize(loss, var_list=fruit_vars)\n",
        "\n",
        "with tf.name_scope(\"eval\"):\n",
        "    correct = tf.nn.in_top_k(fruit_logits, y, 1)\n",
        "    accuracy = tf.reduce_mean(tf.cast(correct, tf.float32))\n",
        "\n",
        "with tf.name_scope(\"init_and_save\"):\n",
        "    init = tf.global_variables_initializer()\n",
        "    saver = tf.train.Saver() "
      ],
      "execution_count": 0,
      "outputs": []
    },
    {
      "cell_type": "code",
      "metadata": {
        "id": "KxAZSLGByLBy",
        "colab_type": "code",
        "colab": {
          "base_uri": "https://localhost:8080/",
          "height": 36
        },
        "outputId": "081887b7-0188-4279-d7b4-053a36df6cd0"
      },
      "source": [
        "[v.name for v in fruit_vars]"
      ],
      "execution_count": 194,
      "outputs": [
        {
          "output_type": "execute_result",
          "data": {
            "text/plain": [
              "['fruit_logits/kernel:0', 'fruit_logits/bias:0']"
            ]
          },
          "metadata": {
            "tags": []
          },
          "execution_count": 194
        }
      ]
    },
    {
      "cell_type": "code",
      "metadata": {
        "id": "2D_OiPbUyQD1",
        "colab_type": "code",
        "colab": {
          "base_uri": "https://localhost:8080/",
          "height": 36
        },
        "outputId": "76b5aa34-28be-4237-cf3d-c6b2521006e4"
      },
      "source": [
        "fruit_class_ids = {fruit_class: index for index, fruit_class in enumerate(fruit_classes)}\n",
        "fruit_class_ids"
      ],
      "execution_count": 195,
      "outputs": [
        {
          "output_type": "execute_result",
          "data": {
            "text/plain": [
              "{'Apple': 0, 'Lemon': 1, 'Orange': 2, 'Pear': 3}"
            ]
          },
          "metadata": {
            "tags": []
          },
          "execution_count": 195
        }
      ]
    },
    {
      "cell_type": "code",
      "metadata": {
        "id": "7dP6czVxydxd",
        "colab_type": "code",
        "colab": {}
      },
      "source": [
        "fruit_paths_and_classes = []\n",
        "for fruit_class, paths in image_paths.items():\n",
        "    for path in paths:\n",
        "        fruit_paths_and_classes.append((path, fruit_class_ids[fruit_class]))"
      ],
      "execution_count": 0,
      "outputs": []
    },
    {
      "cell_type": "code",
      "metadata": {
        "id": "M7uj907ZyyrR",
        "colab_type": "code",
        "colab": {}
      },
      "source": [
        "test_ratio = 0.2\n",
        "train_size = int(len(fruit_paths_and_classes) * (1 - test_ratio))\n",
        "\n",
        "np.random.shuffle(fruit_paths_and_classes)\n",
        "\n",
        "fruit_paths_and_classes_train = fruit_paths_and_classes[:train_size]\n",
        "fruit_paths_and_classes_test = fruit_paths_and_classes[train_size:]"
      ],
      "execution_count": 0,
      "outputs": []
    },
    {
      "cell_type": "code",
      "metadata": {
        "id": "FhQY3NRXzBxN",
        "colab_type": "code",
        "colab": {
          "base_uri": "https://localhost:8080/",
          "height": 73
        },
        "outputId": "ccc88640-69ab-4119-a2d7-c7d4c9f76145"
      },
      "source": [
        "fruit_paths_and_classes_train[:3]"
      ],
      "execution_count": 198,
      "outputs": [
        {
          "output_type": "execute_result",
          "data": {
            "text/plain": [
              "[('fruits-processed/fruits-360/Training/Pear/190_100.jpg', 3),\n",
              " ('fruits-processed/fruits-360/Training/Apple/r_247_100 (3).jpg', 0),\n",
              " ('fruits-processed/fruits-360/Training/Apple/117_100 (3).jpg', 0)]"
            ]
          },
          "metadata": {
            "tags": []
          },
          "execution_count": 198
        }
      ]
    },
    {
      "cell_type": "code",
      "metadata": {
        "id": "Oi0n-85KzMmD",
        "colab_type": "code",
        "colab": {}
      },
      "source": [
        "from random import sample\n",
        "\n",
        "def prepare_batch(fruit_paths_and_classes, batch_size):\n",
        "    batch_paths_and_classes = sample(fruit_paths_and_classes, batch_size)\n",
        "    images = [mpimg.imread(path)[:, :, :channels] for path, labels in batch_paths_and_classes]\n",
        "    prepared_images = [resizeImg(image) for image in images]\n",
        "    X_batch = 2 * np.stack(prepared_images) - 1 # Inception expects colors ranging from -1 to 1\n",
        "    y_batch = np.array([labels for path, labels in batch_paths_and_classes], dtype=np.int32)\n",
        "    return X_batch, y_batch"
      ],
      "execution_count": 0,
      "outputs": []
    },
    {
      "cell_type": "code",
      "metadata": {
        "id": "0hI1sHKQze3H",
        "colab_type": "code",
        "colab": {
          "base_uri": "https://localhost:8080/",
          "height": 54
        },
        "outputId": "6dc1d0a9-3d82-4e04-f4a9-1f1a1e311dbf"
      },
      "source": [
        "X_batch, y_batch = prepare_batch(fruit_paths_and_classes_train, batch_size=4)"
      ],
      "execution_count": 200,
      "outputs": [
        {
          "output_type": "stream",
          "text": [
            "(100, 100, 3)\n",
            "(299, 299, 3)\n"
          ],
          "name": "stdout"
        }
      ]
    },
    {
      "cell_type": "code",
      "metadata": {
        "id": "d8n40_Tez1BL",
        "colab_type": "code",
        "colab": {
          "base_uri": "https://localhost:8080/",
          "height": 54
        },
        "outputId": "49353c7e-83d4-43e2-d477-165bdf82c99c"
      },
      "source": [
        "X_test, y_test = prepare_batch(fruit_paths_and_classes_test, batch_size=len(fruit_paths_and_classes_test))"
      ],
      "execution_count": 202,
      "outputs": [
        {
          "output_type": "stream",
          "text": [
            "(100, 100, 3)\n",
            "(299, 299, 3)\n"
          ],
          "name": "stdout"
        }
      ]
    },
    {
      "cell_type": "code",
      "metadata": {
        "id": "TWjMGWBq1GH8",
        "colab_type": "code",
        "colab": {
          "base_uri": "https://localhost:8080/",
          "height": 74
        },
        "outputId": "fb472592-ff86-42ef-b8f2-3d95951b6737"
      },
      "source": [
        "n_epochs = 10\n",
        "batch_size = 40\n",
        "n_iterations_per_epoch = len(fruit_paths_and_classes_train) // batch_size\n",
        "\n",
        "with tf.Session() as sess:\n",
        "    init.run()\n",
        "    inception_saver.restore(sess, INCEPTION_V3_CHECKPOINT_PATH)\n",
        "\n",
        "    for epoch in range(n_epochs):\n",
        "        print(\"Epoch\", epoch, end=\"\")\n",
        "        for iteration in range(n_iterations_per_epoch):\n",
        "            print(\".\", end=\"\")\n",
        "            X_batch, y_batch = prepare_batch(fruit_paths_and_classes_train, batch_size)\n",
        "            sess.run(training_op, feed_dict={X: X_batch, y: y_batch, training: True})\n",
        "\n",
        "        acc_train = accuracy.eval(feed_dict={X: X_batch, y: y_batch})\n",
        "        print(\"  Train accuracy:\", acc_train)\n",
        "\n",
        "        save_path = saver.save(sess, \"./my_fruit_model\")"
      ],
      "execution_count": 0,
      "outputs": [
        {
          "output_type": "stream",
          "text": [
            "INFO:tensorflow:Restoring parameters from datasets/inception/inception_v3.ckpt\n",
            "Epoch 0..............................................................................................................."
          ],
          "name": "stdout"
        }
      ]
    }
  ]
}