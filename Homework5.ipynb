{
  "nbformat": 4,
  "nbformat_minor": 0,
  "metadata": {
    "colab": {
      "name": "Homework5.ipynb",
      "version": "0.3.2",
      "provenance": [],
      "collapsed_sections": []
    },
    "kernelspec": {
      "name": "python3",
      "display_name": "Python 3"
    }
  },
  "cells": [
    {
      "cell_type": "code",
      "metadata": {
        "id": "PEqwUm0ZEkcU",
        "colab_type": "code",
        "colab": {}
      },
      "source": [
        "\"\"\"Link para obter o dataset: https://github.com/mcmaximiano/Homework5\"\"\"\n",
        "\n",
        "import numpy as np\n",
        "import matplotlib\n",
        "import matplotlib.pyplot as plt\n",
        "from sklearn import datasets\n",
        "from sklearn.model_selection import train_test_split as split\n",
        "import tensorflow as tf\n",
        "\n",
        "# To support both python 2 and python 3\n",
        "from __future__ import division, print_function, unicode_literals\n",
        "\n",
        "import os\n",
        "\n",
        "import keras as krs\n",
        "from keras.models import Sequential\n",
        "from keras.layers import Dense, Activation, LeakyReLU\n",
        "\n",
        "from google.colab import files\n",
        "\n",
        "uploaded = files.upload()\n",
        "\n",
        "for fn in uploaded.keys():\n",
        "  print('User uploaded file \"{name}\" with length {length} bytes'.format(name=fn, length=len(uploaded[fn])))\n",
        "\n",
        "!unzip fruits-processed.zip\n",
        "\n",
        "\n"
      ],
      "execution_count": 0,
      "outputs": []
    },
    {
      "cell_type": "code",
      "metadata": {
        "id": "DxOl5JPr3Zme",
        "colab_type": "code",
        "colab": {}
      },
      "source": [
        "# to make this notebook's output stable across runs\n",
        "def reset_graph(seed=42):\n",
        "    tf.reset_default_graph()\n",
        "    tf.set_random_seed(seed)\n",
        "    np.random.seed(seed)\n",
        "\n",
        "# To plot pretty figures\n",
        "%matplotlib inline\n",
        "plt.rcParams['axes.labelsize'] = 14\n",
        "plt.rcParams['xtick.labelsize'] = 12\n",
        "plt.rcParams['ytick.labelsize'] = 12\n",
        "\n",
        "# Where to save the figures\n",
        "PROJECT_ROOT_DIR = \".\"\n",
        "CHAPTER_ID = \"cnn\"\n",
        "\n",
        "def save_fig(fig_id, tight_layout=True):\n",
        "    path = os.path.join(PROJECT_ROOT_DIR, \"images\", CHAPTER_ID, fig_id + \".png\")\n",
        "    print(\"Saving figure\", fig_id)\n",
        "    if tight_layout:\n",
        "        plt.tight_layout()\n",
        "    plt.savefig(path, format='png', dpi=300)"
      ],
      "execution_count": 0,
      "outputs": []
    },
    {
      "cell_type": "code",
      "metadata": {
        "id": "Nb4qbgIhFdAS",
        "colab_type": "code",
        "colab": {}
      },
      "source": [
        "def plot_image(image):\n",
        "    plt.imshow(image, cmap=\"gray\", interpolation=\"nearest\")\n",
        "    plt.axis(\"off\")\n",
        "\n",
        "def plot_color_image(image):\n",
        "    plt.imshow(image.astype(np.uint8),interpolation=\"nearest\")\n",
        "    plt.axis(\"off\")"
      ],
      "execution_count": 0,
      "outputs": []
    },
    {
      "cell_type": "code",
      "metadata": {
        "id": "xK2d4s6EFhlR",
        "colab_type": "code",
        "colab": {}
      },
      "source": [
        "width = 100\n",
        "height = 100\n",
        "channels = 3\n",
        "\n",
        "import matplotlib.image as mpimg\n",
        "\n",
        "\n",
        "\n",
        "test_image = mpimg.imread(os.path.join(\"fruits-processed\",\"fruits-360\", \"Test\",\"Orange\",\"30_100.jpg\"))[:, :, :channels]\n",
        "\"\"\" Just a test\n",
        "plt.imshow(test_image)\n",
        "plt.axis(\"off\")\n",
        "plt.show()\n",
        "\"\"\"\n",
        "\n",
        "test_image = 2 * test_image - 1\n"
      ],
      "execution_count": 0,
      "outputs": []
    },
    {
      "cell_type": "code",
      "metadata": {
        "id": "PfW4tZyuKxjR",
        "colab_type": "code",
        "colab": {}
      },
      "source": [
        "one_time_flag = 0"
      ],
      "execution_count": 0,
      "outputs": []
    },
    {
      "cell_type": "code",
      "metadata": {
        "id": "xk9fq6zIJm3B",
        "colab_type": "code",
        "colab": {}
      },
      "source": [
        "import sys\n",
        "import tarfile\n",
        "from six.moves import urllib\n",
        "\n",
        "\"\"\"\n",
        "Get imagenet_class_names from https://github.com/ageron/handson-ml/blob/master/datasets/inception/imagenet_class_names.txt\n",
        "\"\"\"\n",
        "\n",
        "TF_MODELS_URL = \"http://download.tensorflow.org/models\"\n",
        "INCEPTION_V3_URL = TF_MODELS_URL + \"/inception_v3_2016_08_28.tar.gz\"\n",
        "INCEPTION_PATH = os.path.join(\"datasets\", \"inception\")\n",
        "INCEPTION_V3_CHECKPOINT_PATH = os.path.join(INCEPTION_PATH, \"inception_v3.ckpt\")\n",
        "\n",
        "\n",
        "def download_progress(count, block_size, total_size):\n",
        "    percent = count * block_size * 100 // total_size\n",
        "    sys.stdout.write(\"\\rDownloading: {}%\".format(percent))\n",
        "    sys.stdout.flush()\n",
        "\n",
        "def fetch_pretrained_inception_v3(url=INCEPTION_V3_URL, path=INCEPTION_PATH):\n",
        "    if os.path.exists(INCEPTION_V3_CHECKPOINT_PATH):\n",
        "        return\n",
        "    os.makedirs(path, exist_ok=True)\n",
        "    tgz_path = os.path.join(path, \"inception_v3.tgz\")\n",
        "    urllib.request.urlretrieve(url, tgz_path, reporthook=download_progress)\n",
        "    inception_tgz = tarfile.open(tgz_path)\n",
        "    inception_tgz.extractall(path=path)\n",
        "    inception_tgz.close()\n",
        "    os.remove(tgz_path)"
      ],
      "execution_count": 0,
      "outputs": []
    },
    {
      "cell_type": "code",
      "metadata": {
        "id": "U6tiu7YNLSUh",
        "colab_type": "code",
        "colab": {
          "base_uri": "https://localhost:8080/",
          "height": 36
        },
        "outputId": "f9fbd076-ea32-4acc-c425-695a73026029"
      },
      "source": [
        "fetch_pretrained_inception_v3()"
      ],
      "execution_count": 16,
      "outputs": [
        {
          "output_type": "stream",
          "text": [
            "Downloading: 100%"
          ],
          "name": "stdout"
        }
      ]
    },
    {
      "cell_type": "code",
      "metadata": {
        "id": "0mu1V0L8Nffb",
        "colab_type": "code",
        "colab": {}
      },
      "source": [
        "import re\n",
        "\n",
        "CLASS_NAME_REGEX = re.compile(r\"^n\\d+\\s+(.*)\\s*$\", re.M | re.U)\n",
        "\n",
        "\"\"\" At this point get the file 'inagenet_class_names.txt from:\n",
        "https://goo.gl/brXRtZ and upload it into the inception folder\n",
        "'\"\"\"\n",
        "\n",
        "def load_class_names():\n",
        "    with open(os.path.join(\"datasets\", \"inception\", \"imagenet_class_names.txt\"), \"rb\") as f:\n",
        "        content = f.read().decode(\"utf-8\")\n",
        "        return CLASS_NAME_REGEX.findall(content)"
      ],
      "execution_count": 0,
      "outputs": []
    },
    {
      "cell_type": "code",
      "metadata": {
        "id": "PsjmAGxzSDwE",
        "colab_type": "code",
        "colab": {}
      },
      "source": [
        "class_names = [\"background\"] + load_class_names()"
      ],
      "execution_count": 0,
      "outputs": []
    },
    {
      "cell_type": "code",
      "metadata": {
        "id": "BtD66EEBSYNF",
        "colab_type": "code",
        "outputId": "6e9d5192-3b29-4012-d7cb-9b64c40866d3",
        "colab": {
          "base_uri": "https://localhost:8080/",
          "height": 111
        }
      },
      "source": [
        "class_names[:5]"
      ],
      "execution_count": 19,
      "outputs": [
        {
          "output_type": "execute_result",
          "data": {
            "text/plain": [
              "['background',\n",
              " 'tench, Tinca tinca\\r',\n",
              " 'goldfish, Carassius auratus\\r',\n",
              " 'great white shark, white shark, man-eater, man-eating shark, Carcharodon carcharias\\r',\n",
              " 'tiger shark, Galeocerdo cuvieri\\r']"
            ]
          },
          "metadata": {
            "tags": []
          },
          "execution_count": 19
        }
      ]
    },
    {
      "cell_type": "code",
      "metadata": {
        "id": "8XacPAf2Sc4l",
        "colab_type": "code",
        "colab": {}
      },
      "source": [
        "from tensorflow.contrib.slim.nets import inception\n",
        "import tensorflow.contrib.slim as slim\n",
        "\n",
        "reset_graph()\n",
        "\n",
        "X = tf.placeholder(tf.float32, shape=[None, 299, 299, 3], name=\"X\")\n",
        "\n",
        "with slim.arg_scope(inception.inception_v3_arg_scope()):\n",
        "    logits, end_points = inception.inception_v3(\n",
        "       X, num_classes=1001, is_training=False)\n",
        "predictions = end_points[\"Predictions\"]\n",
        "saver = tf.train.Saver()"
      ],
      "execution_count": 0,
      "outputs": []
    },
    {
      "cell_type": "code",
      "metadata": {
        "id": "USDH37iOSlSf",
        "colab_type": "code",
        "outputId": "5d25b8e7-3298-41b9-bd4d-20a42014150a",
        "colab": {
          "base_uri": "https://localhost:8080/",
          "height": 36
        }
      },
      "source": [
        "with tf.Session() as sess:\n",
        "    saver.restore(sess, INCEPTION_V3_CHECKPOINT_PATH)"
      ],
      "execution_count": 100,
      "outputs": [
        {
          "output_type": "stream",
          "text": [
            "INFO:tensorflow:Restoring parameters from datasets/inception/inception_v3.ckpt\n"
          ],
          "name": "stdout"
        }
      ]
    },
    {
      "cell_type": "code",
      "metadata": {
        "id": "4JHb4eMASnpN",
        "colab_type": "code",
        "outputId": "091ce485-ad27-4b57-d3bf-8080e3a3f84e",
        "colab": {
          "base_uri": "https://localhost:8080/",
          "height": 54
        }
      },
      "source": [
        "print(test_image.shape)\n",
        "test_image.resize((1, 299, 299, channels))\n",
        "\n",
        "with tf.Session() as sess:\n",
        "    saver.restore(sess, INCEPTION_V3_CHECKPOINT_PATH)\n",
        "    predictions_val = predictions.eval(feed_dict={X: test_image})"
      ],
      "execution_count": 122,
      "outputs": [
        {
          "output_type": "stream",
          "text": [
            "(1, 299, 299, 3)\n",
            "INFO:tensorflow:Restoring parameters from datasets/inception/inception_v3.ckpt\n"
          ],
          "name": "stdout"
        }
      ]
    },
    {
      "cell_type": "code",
      "metadata": {
        "id": "Z58kJDDfgdjV",
        "colab_type": "code",
        "colab": {}
      },
      "source": [
        ""
      ],
      "execution_count": 0,
      "outputs": []
    }
  ]
}